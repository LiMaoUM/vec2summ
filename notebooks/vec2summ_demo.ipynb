{
 "cells": [
  {
   "cell_type": "markdown",
   "metadata": {},
   "source": [
    "# Vec2Summ Demo Notebook\n",
    "\n",
    "This notebook demonstrates the Vec2Summ approach to text summarization via probabilistic sentence embeddings.\n",
    "\n",
    "## What is Vec2Summ?\n",
    "\n",
    "Vec2Summ is a novel approach that:\n",
    "1. Embeds texts into high-dimensional space\n",
    "2. Models the distribution of embeddings\n",
    "3. Samples new vectors from this distribution\n",
    "4. Reconstructs text from sampled vectors\n",
    "5. Generates summaries from reconstructed texts"
   ]
  },
  {
   "cell_type": "code",
   "execution_count": null,
   "metadata": {},
   "outputs": [],
   "source": [
    "# Install required packages (if needed)\n",
    "# !pip install -r ../requirements.txt"
   ]
  },
  {
   "cell_type": "code",
   "execution_count": 1,
   "metadata": {},
   "outputs": [],
   "source": [
    "import sys\n",
    "import os\n",
    "sys.path.append('../src')\n",
    "\n",
    "import numpy as np\n",
    "import matplotlib.pyplot as plt\n",
    "from dotenv import load_dotenv\n",
    "\n",
    "# Load environment variables\n",
    "load_dotenv('../.env')\n",
    "\n",
    "# Import vec2summ components\n",
    "from vec2summ.core.embeddings import get_embeddings, get_embeddings_and_corrector, get_openai_embeddings, get_gtr_embeddings\n",
    "from vec2summ.core.distribution import calculate_distribution_params, sample_from_distribution\n",
    "from vec2summ.core.reconstruction import reconstruct_text_from_embeddings\n",
    "from vec2summ.core.summarization import generate_vec2summ_summary\n",
    "from vec2summ.utils.visualization import visualize_embeddings\n",
    "from vec2summ.data.preprocessing import clean_text"
   ]
  },
  {
   "cell_type": "markdown",
   "metadata": {},
   "source": [
    "## Configuration\n",
    "\n",
    "Choose your embedding model and configure the experiment parameters."
   ]
  },
  {
   "cell_type": "code",
   "execution_count": null,
   "metadata": {},
   "outputs": [
    {
     "name": "stdout",
     "output_type": "stream",
     "text": [
      "Selected embedding type: openai\n",
      "OpenAI model: text-embedding-ada-002\n",
      "Note: Make sure your OpenAI API key is set in the .env file\n"
     ]
    }
   ],
   "source": [
    "# Configuration - Choose your embedding type\n",
    "# Options: \"openai\" or \"gtr\"\n",
    "\n",
    "EMBEDDING_TYPE = \"gtr\"  # Change this to \"gtr\" to use GTR embeddings instead\n",
    "\n",
    "# Model-specific settings\n",
    "OPENAI_MODEL = \"text-embedding-ada-002\"  # Used when EMBEDDING_TYPE=\"openai\"\n",
    "GTR_MODEL = \"sentence-transformers/gtr-t5-base\"  # Used when EMBEDDING_TYPE=\"gtr\"\n",
    "\n",
    "# Other experiment parameters\n",
    "N_SAMPLES = 5  # Number of vectors to sample from the distribution\n",
    "BATCH_SIZE = 128  # Batch size for embedding computation\n",
    "\n",
    "print(f\"Selected embedding type: {EMBEDDING_TYPE}\")\n",
    "if EMBEDDING_TYPE == \"openai\":\n",
    "    print(f\"OpenAI model: {OPENAI_MODEL}\")\n",
    "    print(\"Note: Make sure your OpenAI API key is set in the .env file\")\n",
    "elif EMBEDDING_TYPE == \"gtr\":\n",
    "    print(f\"GTR model: {GTR_MODEL}\")\n",
    "    print(\"Note: GTR models will be downloaded locally if not cached\")\n",
    "else:\n",
    "    print(\"Warning: Invalid embedding type selected!\")"
   ]
  },
  {
   "cell_type": "markdown",
   "metadata": {},
   "source": [
    "### Embedding Types Comparison\n",
    "\n",
    "**OpenAI Embeddings (`text-embedding-ada-002`)**:\n",
    "- ✅ High quality, well-trained embeddings\n",
    "- ✅ No local model download required\n",
    "- ✅ Consistent performance across domains\n",
    "- ❌ Requires OpenAI API key and internet connection\n",
    "- ❌ Usage costs apply\n",
    "- ❌ No control over model architecture\n",
    "\n",
    "**GTR Embeddings (`sentence-transformers/gtr-t5-base`)**:\n",
    "- ✅ Free to use (open source)\n",
    "- ✅ Runs locally (no internet required after download)\n",
    "- ✅ Full control over the model\n",
    "- ✅ No usage limits or costs\n",
    "- ❌ Requires initial model download (~1GB)\n",
    "- ❌ Requires more computational resources\n",
    "- ❌ May need fine-tuning for specific domains\n",
    "\n",
    "Choose the embedding type that best fits your use case!"
   ]
  },
  {
   "cell_type": "markdown",
   "metadata": {},
   "source": [
    "### ⚠️ Important: Embedding-Corrector Pairing\n",
    "\n",
    "The `vec2text` library requires that **embeddings and correctors are properly paired**:\n",
    "\n",
    "- **OpenAI embeddings** → **OpenAI corrector** (same model name)\n",
    "- **GTR embeddings** → **GTR corrector** (`gtr-base`)\n",
    "\n",
    "**Mixing them will cause errors!** Our code automatically handles this pairing for you."
   ]
  },
  {
   "cell_type": "code",
   "execution_count": null,
   "metadata": {},
   "outputs": [],
   "source": [
    "# Test embedding-corrector compatibility\n",
    "from vec2summ.core.embeddings import validate_embedding_corrector_pair\n",
    "\n",
    "print(\"Testing embedding-corrector compatibility:\")\n",
    "print(\"✅ Valid pairs:\")\n",
    "print(f\"  OpenAI + text-embedding-ada-002: {validate_embedding_corrector_pair('openai', 'text-embedding-ada-002')}\")\n",
    "print(f\"  GTR + gtr-base: {validate_embedding_corrector_pair('gtr', 'gtr-base')}\")\n",
    "\n",
    "print(\"❌ Invalid pairs:\")\n",
    "print(f\"  OpenAI + gtr-base: {validate_embedding_corrector_pair('openai', 'gtr-base')}\")\n",
    "print(f\"  GTR + text-embedding-ada-002: {validate_embedding_corrector_pair('gtr', 'text-embedding-ada-002')}\")\n",
    "\n",
    "print(f\"\\nYour current selection ({EMBEDDING_TYPE}) will be automatically paired correctly! ✅\")"
   ]
  },
  {
   "cell_type": "markdown",
   "metadata": {},
   "source": [
    "## Step 1: Prepare Sample Data\n",
    "\n",
    "Let's start with some sample texts to demonstrate the approach."
   ]
  },
  {
   "cell_type": "code",
   "execution_count": null,
   "metadata": {},
   "outputs": [],
   "source": [
    "# Sample texts for demonstration\n",
    "sample_texts = [\n",
    "    \"Machine learning is transforming how we process and understand data.\",\n",
    "    \"Artificial intelligence enables computers to perform tasks that typically require human intelligence.\",\n",
    "    \"Deep learning uses neural networks with multiple layers to learn complex patterns.\",\n",
    "    \"Natural language processing helps computers understand and generate human language.\",\n",
    "    \"Computer vision allows machines to interpret and analyze visual information.\",\n",
    "    \"Reinforcement learning trains agents to make decisions through trial and error.\",\n",
    "    \"Big data analytics reveals insights from large and complex datasets.\",\n",
    "    \"Cloud computing provides scalable and flexible computing resources.\"\n",
    "]\n",
    "\n",
    "# Clean the texts\n",
    "cleaned_texts = [clean_text(text) for text in sample_texts]\n",
    "print(f\"Number of texts: {len(cleaned_texts)}\")\n",
    "print(\"\\nSample texts:\")\n",
    "for i, text in enumerate(cleaned_texts[:3]):\n",
    "    print(f\"{i+1}. {text}\")"
   ]
  },
  {
   "cell_type": "markdown",
   "metadata": {},
   "source": [
    "## Step 2: Generate Embeddings\n",
    "\n",
    "Convert our texts into high-dimensional embeddings using OpenAI's embedding model."
   ]
  },
  {
   "cell_type": "code",
   "execution_count": null,
   "metadata": {},
   "outputs": [],
   "source": [
    "# Generate embeddings and get properly paired corrector\n",
    "print(f\"Generating {EMBEDDING_TYPE} embeddings and loading paired corrector...\")\n",
    "\n",
    "embeddings, corrector, embedding_models = get_embeddings_and_corrector(\n",
    "    cleaned_texts,\n",
    "    embedding_type=EMBEDDING_TYPE,\n",
    "    openai_model=OPENAI_MODEL,\n",
    "    gtr_model=GTR_MODEL,\n",
    "    batch_size=BATCH_SIZE\n",
    ")\n",
    "\n",
    "print(f\"Embeddings shape: {embeddings.shape}\")\n",
    "print(f\"Embedding dimension: {embeddings.shape[1]}\")\n",
    "print(f\"Successfully generated embeddings using {EMBEDDING_TYPE} model\")\n",
    "print(f\"✅ Corrector properly paired with {EMBEDDING_TYPE} embeddings\")\n",
    "\n",
    "# Store the corrector for later use in reconstruction\n",
    "print(f\"Corrector type: {type(corrector)}\")\n",
    "if EMBEDDING_TYPE == \"openai\":\n",
    "    print(f\"Using OpenAI corrector for model: {OPENAI_MODEL}\")\n",
    "else:\n",
    "    print(f\"Using GTR corrector (gtr-base) for GTR embeddings\")"
   ]
  },
  {
   "cell_type": "markdown",
   "metadata": {},
   "source": [
    "## Step 3: Model the Distribution\n",
    "\n",
    "Calculate the mean vector and covariance matrix of our embeddings."
   ]
  },
  {
   "cell_type": "code",
   "execution_count": null,
   "metadata": {},
   "outputs": [],
   "source": [
    "# Calculate distribution parameters\n",
    "mean_vector, covariance_matrix = calculate_distribution_params(embeddings)\n",
    "\n",
    "print(f\"Mean vector shape: {mean_vector.shape}\")\n",
    "print(f\"Covariance matrix shape: {covariance_matrix.shape}\")\n",
    "print(f\"Mean vector norm: {np.linalg.norm(mean_vector):.4f}\")\n",
    "print(f\"Covariance matrix determinant: {np.linalg.det(covariance_matrix):.2e}\")"
   ]
  },
  {
   "cell_type": "markdown",
   "metadata": {},
   "source": [
    "## Step 4: Sample New Vectors\n",
    "\n",
    "Sample new embedding vectors from our learned distribution."
   ]
  },
  {
   "cell_type": "code",
   "execution_count": null,
   "metadata": {},
   "outputs": [],
   "source": [
    "# Sample from the distribution\n",
    "sampled_vectors = sample_from_distribution(mean_vector, covariance_matrix, n_samples=N_SAMPLES)\n",
    "\n",
    "print(f\"Sampled vectors shape: {sampled_vectors.shape}\")\n",
    "print(f\"Number of samples: {N_SAMPLES}\")\n",
    "\n",
    "# Compare with original embeddings\n",
    "original_mean_norm = np.mean([np.linalg.norm(emb) for emb in embeddings.numpy()])\n",
    "sampled_mean_norm = np.mean([np.linalg.norm(vec) for vec in sampled_vectors])\n",
    "\n",
    "print(f\"Original embeddings mean norm: {original_mean_norm:.4f}\")\n",
    "print(f\"Sampled vectors mean norm: {sampled_mean_norm:.4f}\")\n",
    "print(f\"Using {EMBEDDING_TYPE} embeddings for the experiment\")"
   ]
  },
  {
   "cell_type": "markdown",
   "metadata": {},
   "source": [
    "## Step 5: Reconstruct Text (Demo)\n",
    "\n",
    "Note: For this demo, we'll simulate text reconstruction since it requires the vec2text model."
   ]
  },
  {
   "cell_type": "code",
   "execution_count": null,
   "metadata": {},
   "outputs": [],
   "source": [
    "# Text reconstruction with properly paired corrector\n",
    "print(f\"Reconstructing text using {EMBEDDING_TYPE} corrector...\")\n",
    "\n",
    "# Option 1: Real reconstruction (uncomment to use actual vec2text reconstruction)\n",
    "# reconstructed_texts = reconstruct_text_from_embeddings(sampled_vectors, corrector)\n",
    "\n",
    "# Option 2: Demo reconstruction (faster for demonstration)\n",
    "# For demo, let's create sample reconstructed texts matching our N_SAMPLES\n",
    "demo_texts = [\n",
    "    \"AI and machine learning are changing data processing.\",\n",
    "    \"Neural networks enable complex pattern recognition.\",\n",
    "    \"Natural language models understand human communication.\",\n",
    "    \"Computer vision analyzes visual data effectively.\",\n",
    "    \"Big data provides insights through advanced analytics.\",\n",
    "    \"Deep learning processes complex information patterns.\",\n",
    "    \"Automation streamlines repetitive computational tasks.\",\n",
    "    \"Cloud computing offers scalable processing solutions.\"\n",
    "]\n",
    "\n",
    "# Take only N_SAMPLES texts to match our sampling\n",
    "reconstructed_texts = demo_texts[:N_SAMPLES]\n",
    "\n",
    "print(f\"Reconstructed texts (demo) - using {EMBEDDING_TYPE} embedding space:\")\n",
    "for i, text in enumerate(reconstructed_texts):\n",
    "    print(f\"{i+1}. {text}\")\n",
    "\n",
    "print(f\"\\nGenerated {len(reconstructed_texts)} reconstructed texts from {N_SAMPLES} sampled vectors\")\n",
    "print(f\"✅ Corrector ({EMBEDDING_TYPE}) properly paired with embeddings\")\n",
    "\n",
    "# Note about real reconstruction\n",
    "print(f\"\\n💡 Note: To use real reconstruction, uncomment the first line and comment out the demo section.\")\n",
    "print(f\"    Real reconstruction uses the properly paired {EMBEDDING_TYPE} corrector loaded earlier.\")"
   ]
  },
  {
   "cell_type": "markdown",
   "metadata": {},
   "source": [
    "## Step 6: Generate Summary\n",
    "\n",
    "Create a summary from the reconstructed texts."
   ]
  },
  {
   "cell_type": "code",
   "execution_count": null,
   "metadata": {},
   "outputs": [],
   "source": [
    "# Generate summary from reconstructed texts\n",
    "print(\"Generating Vec2Summ summary...\")\n",
    "summary = generate_vec2summ_summary(reconstructed_texts)\n",
    "\n",
    "print(\"\\nVec2Summ Summary:\")\n",
    "print(\"=\"*50)\n",
    "print(summary)\n",
    "print(\"=\"*50)"
   ]
  },
  {
   "cell_type": "markdown",
   "metadata": {},
   "source": [
    "## Step 7: Visualize Embeddings\n",
    "\n",
    "Create a 2D visualization of the original and sampled embeddings using PCA."
   ]
  },
  {
   "cell_type": "code",
   "execution_count": null,
   "metadata": {},
   "outputs": [],
   "source": [
    "# Visualize embeddings\n",
    "import torch\n",
    "\n",
    "# Generate embeddings for reconstructed texts using the same embedding type\n",
    "print(f\"Generating embeddings for reconstructed texts using {EMBEDDING_TYPE}...\")\n",
    "reconstructed_embeddings = get_embeddings(\n",
    "    reconstructed_texts,\n",
    "    embedding_type=EMBEDDING_TYPE,\n",
    "    openai_model=OPENAI_MODEL,\n",
    "    gtr_model=GTR_MODEL,\n",
    "    batch_size=BATCH_SIZE\n",
    ")\n",
    "\n",
    "print(f\"✅ All embeddings use consistent {EMBEDDING_TYPE} model\")\n",
    "\n",
    "visualize_embeddings(\n",
    "    original_embeddings=embeddings,\n",
    "    sampled_embeddings=torch.tensor(sampled_vectors),\n",
    "    reconstructed_embeddings=reconstructed_embeddings,\n",
    "    save_path=f\"demo_visualization_{EMBEDDING_TYPE}.png\"\n",
    ")\n",
    "\n",
    "# Display the plot\n",
    "from IPython.display import Image, display\n",
    "print(f\"Visualization using {EMBEDDING_TYPE} embeddings:\")\n",
    "display(Image(f\"demo_visualization_{EMBEDDING_TYPE}.png\"))"
   ]
  },
  {
   "cell_type": "markdown",
   "metadata": {},
   "source": [
    "## Analysis and Insights\n",
    "\n",
    "Let's analyze what we learned from this experiment."
   ]
  },
  {
   "cell_type": "code",
   "execution_count": null,
   "metadata": {},
   "outputs": [],
   "source": [
    "# Analyze the embedding space\n",
    "from sklearn.metrics.pairwise import cosine_similarity\n",
    "\n",
    "# Calculate similarities between original embeddings\n",
    "original_similarities = cosine_similarity(embeddings.numpy())\n",
    "mean_original_sim = np.mean(original_similarities[np.triu_indices_from(original_similarities, k=1)])\n",
    "\n",
    "# Calculate similarities between sampled vectors and originals\n",
    "sampled_to_original_sims = cosine_similarity(sampled_vectors, embeddings.numpy())\n",
    "mean_sampled_sim = np.mean(sampled_to_original_sims)\n",
    "\n",
    "print(f\"Mean similarity between original embeddings: {mean_original_sim:.4f}\")\n",
    "print(f\"Mean similarity between sampled and original: {mean_sampled_sim:.4f}\")\n",
    "\n",
    "# Plot similarity distributions\n",
    "plt.figure(figsize=(12, 4))\n",
    "\n",
    "plt.subplot(1, 2, 1)\n",
    "plt.hist(original_similarities[np.triu_indices_from(original_similarities, k=1)], \n",
    "         bins=10, alpha=0.7, label='Original-Original')\n",
    "plt.title('Similarity Distribution: Original Embeddings')\n",
    "plt.xlabel('Cosine Similarity')\n",
    "plt.ylabel('Frequency')\n",
    "\n",
    "plt.subplot(1, 2, 2)\n",
    "plt.hist(sampled_to_original_sims.flatten(), bins=10, alpha=0.7, \n",
    "         label='Sampled-Original', color='orange')\n",
    "plt.title('Similarity Distribution: Sampled vs Original')\n",
    "plt.xlabel('Cosine Similarity')\n",
    "plt.ylabel('Frequency')\n",
    "\n",
    "plt.tight_layout()\n",
    "plt.show()"
   ]
  },
  {
   "cell_type": "markdown",
   "metadata": {},
   "source": [
    "## Conclusion\n",
    "\n",
    "This notebook demonstrated the Vec2Summ approach with **flexible embedding choices** and **proper model pairing**:\n",
    "\n",
    "1. **Embedding Generation**: Converted texts to high-dimensional vectors using your chosen model\n",
    "2. **Distribution Modeling**: Learned mean and covariance of embedding space\n",
    "3. **Sampling**: Generated new vectors from the learned distribution\n",
    "4. **Reconstruction**: (Simulated) converting vectors back to text using **properly paired corrector**\n",
    "5. **Summarization**: Created summaries from reconstructed texts\n",
    "\n",
    "### Key Insights:\n",
    "- The embedding space captures semantic relationships regardless of the model used\n",
    "- Sampling preserves distributional properties for both OpenAI and GTR embeddings\n",
    "- The approach enables novel summarization via probabilistic modeling\n",
    "- **Choice of embedding model** affects computational requirements and costs\n",
    "- **⚠️ Embedding-corrector pairing is critical** for successful text reconstruction\n",
    "\n",
    "### Embedding Type Benefits:\n",
    "- **OpenAI**: Higher quality, no local setup, but requires API key and costs money\n",
    "- **GTR**: Free and local, full control, but requires more compute resources\n",
    "\n",
    "### Critical Implementation Details:\n",
    "- **OpenAI embeddings** must be paired with **OpenAI correctors** (same model)\n",
    "- **GTR embeddings** must be paired with **GTR correctors** (`gtr-base`)\n",
    "- Our `get_embeddings_and_corrector()` function automatically handles this pairing\n",
    "- Mixing embedding types with wrong correctors **will cause errors**\n",
    "\n",
    "### Next Steps:\n",
    "- Try both embedding types with your own datasets\n",
    "- Compare results between OpenAI and GTR embeddings\n",
    "- Experiment with different GTR models (ensure corrector compatibility)\n",
    "- Use real reconstruction by uncommenting the appropriate lines\n",
    "- Evaluate reconstruction quality with different embedding dimensions\n",
    "- Compare with baseline summarization methods\n",
    "\n",
    "### Changing Embedding Types:\n",
    "Simply modify the `EMBEDDING_TYPE` variable in the configuration cell above and re-run the notebook. The pairing will be handled automatically!"
   ]
  },
  {
   "cell_type": "code",
   "execution_count": null,
   "metadata": {},
   "outputs": [],
   "source": [
    "# Cleanup\n",
    "import os\n",
    "\n",
    "# Clean up visualization files\n",
    "for embedding_type in [\"openai\", \"gtr\"]:\n",
    "    filename = f\"demo_visualization_{embedding_type}.png\"\n",
    "    if os.path.exists(filename):\n",
    "        os.remove(filename)\n",
    "        print(f\"Removed {filename}\")\n",
    "\n",
    "print(f\"Demo completed successfully using {EMBEDDING_TYPE} embeddings! 🎉\")"
   ]
  }
 ],
 "metadata": {
  "kernelspec": {
   "display_name": ".venv",
   "language": "python",
   "name": "python3"
  },
  "language_info": {
   "codemirror_mode": {
    "name": "ipython",
    "version": 3
   },
   "file_extension": ".py",
   "mimetype": "text/x-python",
   "name": "python",
   "nbconvert_exporter": "python",
   "pygments_lexer": "ipython3",
   "version": "3.10.12"
  }
 },
 "nbformat": 4,
 "nbformat_minor": 4
}
