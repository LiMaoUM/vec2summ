{
 "cells": [
  {
   "cell_type": "markdown",
   "metadata": {},
   "source": [
    "# Vec2Summ Demo Notebook\n",
    "\n",
    "This notebook demonstrates the Vec2Summ approach to text summarization via probabilistic sentence embeddings.\n",
    "\n",
    "## What is Vec2Summ?\n",
    "\n",
    "Vec2Summ is a novel approach that:\n",
    "1. Embeds texts into high-dimensional space\n",
    "2. Models the distribution of embeddings\n",
    "3. Samples new vectors from this distribution\n",
    "4. Reconstructs text from sampled vectors\n",
    "5. Generates summaries from reconstructed texts"
   ]
  },
  {
   "cell_type": "code",
   "execution_count": null,
   "metadata": {},
   "outputs": [],
   "source": [
    "# Install required packages (if needed)\n",
    "# !pip install -r ../requirements.txt"
   ]
  },
  {
   "cell_type": "code",
   "execution_count": null,
   "metadata": {},
   "outputs": [],
   "source": [
    "import sys\n",
    "import os\n",
    "sys.path.append('../src')\n",
    "\n",
    "import numpy as np\n",
    "import matplotlib.pyplot as plt\n",
    "from dotenv import load_dotenv\n",
    "\n",
    "# Load environment variables\n",
    "load_dotenv('../.env')\n",
    "\n",
    "# Import vec2summ components\n",
    "from vec2summ.core.embeddings import get_openai_embeddings\n",
    "from vec2summ.core.distribution import calculate_distribution_params, sample_from_distribution\n",
    "from vec2summ.core.reconstruction import reconstruct_text_from_embeddings\n",
    "from vec2summ.core.summarization import generate_vec2summ_summary\n",
    "from vec2summ.utils.visualization import visualize_embeddings\n",
    "from vec2summ.data.preprocessing import clean_text"
   ]
  },
  {
   "cell_type": "markdown",
   "metadata": {},
   "source": [
    "## Step 1: Prepare Sample Data\n",
    "\n",
    "Let's start with some sample texts to demonstrate the approach."
   ]
  },
  {
   "cell_type": "code",
   "execution_count": null,
   "metadata": {},
   "outputs": [],
   "source": [
    "# Sample texts for demonstration\n",
    "sample_texts = [\n",
    "    \"Machine learning is transforming how we process and understand data.\",\n",
    "    \"Artificial intelligence enables computers to perform tasks that typically require human intelligence.\",\n",
    "    \"Deep learning uses neural networks with multiple layers to learn complex patterns.\",\n",
    "    \"Natural language processing helps computers understand and generate human language.\",\n",
    "    \"Computer vision allows machines to interpret and analyze visual information.\",\n",
    "    \"Reinforcement learning trains agents to make decisions through trial and error.\",\n",
    "    \"Big data analytics reveals insights from large and complex datasets.\",\n",
    "    \"Cloud computing provides scalable and flexible computing resources.\"\n",
    "]\n",
    "\n",
    "# Clean the texts\n",
    "cleaned_texts = [clean_text(text) for text in sample_texts]\n",
    "print(f\"Number of texts: {len(cleaned_texts)}\")\n",
    "print(\"\\nSample texts:\")\n",
    "for i, text in enumerate(cleaned_texts[:3]):\n",
    "    print(f\"{i+1}. {text}\")"
   ]
  },
  {
   "cell_type": "markdown",
   "metadata": {},
   "source": [
    "## Step 2: Generate Embeddings\n",
    "\n",
    "Convert our texts into high-dimensional embeddings using OpenAI's embedding model."
   ]
  },
  {
   "cell_type": "code",
   "execution_count": null,
   "metadata": {},
   "outputs": [],
   "source": [
    "# Generate embeddings\n",
    "print(\"Generating embeddings...\")\n",
    "embeddings = get_openai_embeddings(cleaned_texts)\n",
    "print(f\"Embeddings shape: {embeddings.shape}\")\n",
    "print(f\"Embedding dimension: {embeddings.shape[1]}\")"
   ]
  },
  {
   "cell_type": "markdown",
   "metadata": {},
   "source": [
    "## Step 3: Model the Distribution\n",
    "\n",
    "Calculate the mean vector and covariance matrix of our embeddings."
   ]
  },
  {
   "cell_type": "code",
   "execution_count": null,
   "metadata": {},
   "outputs": [],
   "source": [
    "# Calculate distribution parameters\n",
    "mean_vector, covariance_matrix = calculate_distribution_params(embeddings)\n",
    "\n",
    "print(f\"Mean vector shape: {mean_vector.shape}\")\n",
    "print(f\"Covariance matrix shape: {covariance_matrix.shape}\")\n",
    "print(f\"Mean vector norm: {np.linalg.norm(mean_vector):.4f}\")\n",
    "print(f\"Covariance matrix determinant: {np.linalg.det(covariance_matrix):.2e}\")"
   ]
  },
  {
   "cell_type": "markdown",
   "metadata": {},
   "source": [
    "## Step 4: Sample New Vectors\n",
    "\n",
    "Sample new embedding vectors from our learned distribution."
   ]
  },
  {
   "cell_type": "code",
   "execution_count": null,
   "metadata": {},
   "outputs": [],
   "source": [
    "# Sample from the distribution\n",
    "n_samples = 5\n",
    "sampled_vectors = sample_from_distribution(mean_vector, covariance_matrix, n_samples=n_samples)\n",
    "\n",
    "print(f\"Sampled vectors shape: {sampled_vectors.shape}\")\n",
    "print(f\"Number of samples: {n_samples}\")\n",
    "\n",
    "# Compare with original embeddings\n",
    "original_mean_norm = np.mean([np.linalg.norm(emb) for emb in embeddings.numpy()])\n",
    "sampled_mean_norm = np.mean([np.linalg.norm(vec) for vec in sampled_vectors])\n",
    "\n",
    "print(f\"Original embeddings mean norm: {original_mean_norm:.4f}\")\n",
    "print(f\"Sampled vectors mean norm: {sampled_mean_norm:.4f}\")"
   ]
  },
  {
   "cell_type": "markdown",
   "metadata": {},
   "source": [
    "## Step 5: Reconstruct Text (Demo)\n",
    "\n",
    "Note: For this demo, we'll simulate text reconstruction since it requires the vec2text model."
   ]
  },
  {
   "cell_type": "code",
   "execution_count": null,
   "metadata": {},
   "outputs": [],
   "source": [
    "# Simulated reconstruction for demo purposes\n",
    "# In practice, you would use: reconstructed_texts = reconstruct_text_from_embeddings(sampled_vectors, corrector)\n",
    "\n",
    "# For demo, let's create some sample reconstructed texts\n",
    "reconstructed_texts = [\n",
    "    \"AI and machine learning are changing data processing.\",\n",
    "    \"Neural networks enable complex pattern recognition.\",\n",
    "    \"Natural language models understand human communication.\",\n",
    "    \"Computer vision analyzes visual data effectively.\",\n",
    "    \"Big data provides insights through advanced analytics.\"\n",
    "]\n",
    "\n",
    "print(\"Reconstructed texts (demo):\")\n",
    "for i, text in enumerate(reconstructed_texts):\n",
    "    print(f\"{i+1}. {text}\")"
   ]
  },
  {
   "cell_type": "markdown",
   "metadata": {},
   "source": [
    "## Step 6: Generate Summary\n",
    "\n",
    "Create a summary from the reconstructed texts."
   ]
  },
  {
   "cell_type": "code",
   "execution_count": null,
   "metadata": {},
   "outputs": [],
   "source": [
    "# Generate summary from reconstructed texts\n",
    "print(\"Generating Vec2Summ summary...\")\n",
    "summary = generate_vec2summ_summary(reconstructed_texts)\n",
    "\n",
    "print(\"\\nVec2Summ Summary:\")\n",
    "print(\"=\"*50)\n",
    "print(summary)\n",
    "print(\"=\"*50)"
   ]
  },
  {
   "cell_type": "markdown",
   "metadata": {},
   "source": [
    "## Step 7: Visualize Embeddings\n",
    "\n",
    "Create a 2D visualization of the original and sampled embeddings using PCA."
   ]
  },
  {
   "cell_type": "code",
   "execution_count": null,
   "metadata": {},
   "outputs": [],
   "source": [
    "# Visualize embeddings\n",
    "import torch\n",
    "\n",
    "visualize_embeddings(\n",
    "    original_embeddings=embeddings,\n",
    "    sampled_embeddings=torch.tensor(sampled_vectors),\n",
    "    save_path=\"demo_visualization.png\"\n",
    ")\n",
    "\n",
    "# Display the plot\n",
    "from IPython.display import Image, display\n",
    "display(Image(\"demo_visualization.png\"))"
   ]
  },
  {
   "cell_type": "markdown",
   "metadata": {},
   "source": [
    "## Analysis and Insights\n",
    "\n",
    "Let's analyze what we learned from this experiment."
   ]
  },
  {
   "cell_type": "code",
   "execution_count": null,
   "metadata": {},
   "outputs": [],
   "source": [
    "# Analyze the embedding space\n",
    "from sklearn.metrics.pairwise import cosine_similarity\n",
    "\n",
    "# Calculate similarities between original embeddings\n",
    "original_similarities = cosine_similarity(embeddings.numpy())\n",
    "mean_original_sim = np.mean(original_similarities[np.triu_indices_from(original_similarities, k=1)])\n",
    "\n",
    "# Calculate similarities between sampled vectors and originals\n",
    "sampled_to_original_sims = cosine_similarity(sampled_vectors, embeddings.numpy())\n",
    "mean_sampled_sim = np.mean(sampled_to_original_sims)\n",
    "\n",
    "print(f\"Mean similarity between original embeddings: {mean_original_sim:.4f}\")\n",
    "print(f\"Mean similarity between sampled and original: {mean_sampled_sim:.4f}\")\n",
    "\n",
    "# Plot similarity distributions\n",
    "plt.figure(figsize=(12, 4))\n",
    "\n",
    "plt.subplot(1, 2, 1)\n",
    "plt.hist(original_similarities[np.triu_indices_from(original_similarities, k=1)], \n",
    "         bins=10, alpha=0.7, label='Original-Original')\n",
    "plt.title('Similarity Distribution: Original Embeddings')\n",
    "plt.xlabel('Cosine Similarity')\n",
    "plt.ylabel('Frequency')\n",
    "\n",
    "plt.subplot(1, 2, 2)\n",
    "plt.hist(sampled_to_original_sims.flatten(), bins=10, alpha=0.7, \n",
    "         label='Sampled-Original', color='orange')\n",
    "plt.title('Similarity Distribution: Sampled vs Original')\n",
    "plt.xlabel('Cosine Similarity')\n",
    "plt.ylabel('Frequency')\n",
    "\n",
    "plt.tight_layout()\n",
    "plt.show()"
   ]
  },
  {
   "cell_type": "markdown",
   "metadata": {},
   "source": [
    "## Conclusion\n",
    "\n",
    "This notebook demonstrated the Vec2Summ approach:\n",
    "\n",
    "1. **Embedding Generation**: Converted texts to high-dimensional vectors\n",
    "2. **Distribution Modeling**: Learned mean and covariance of embedding space\n",
    "3. **Sampling**: Generated new vectors from the learned distribution\n",
    "4. **Reconstruction**: (Simulated) converting vectors back to text\n",
    "5. **Summarization**: Created summaries from reconstructed texts\n",
    "\n",
    "### Key Insights:\n",
    "- The embedding space captures semantic relationships\n",
    "- Sampling preserves distributional properties\n",
    "- The approach enables novel summarization via probabilistic modeling\n",
    "\n",
    "### Next Steps:\n",
    "- Try with your own datasets\n",
    "- Experiment with different embedding models\n",
    "- Evaluate reconstruction quality\n",
    "- Compare with baseline summarization methods"
   ]
  },
  {
   "cell_type": "code",
   "execution_count": null,
   "metadata": {},
   "outputs": [],
   "source": [
    "# Cleanup\n",
    "import os\n",
    "if os.path.exists(\"demo_visualization.png\"):\n",
    "    os.remove(\"demo_visualization.png\")\n",
    "    \n",
    "print(\"Demo completed successfully! 🎉\")"
   ]
  }
 ],
 "metadata": {
  "kernelspec": {
   "display_name": "Python 3",
   "language": "python",
   "name": "python3"
  },
  "language_info": {
   "codemirror_mode": {
    "name": "ipython",
    "version": 3
   },
   "file_extension": ".py",
   "mimetype": "text/x-python",
   "name": "python",
   "nbconvert_exporter": "python",
   "pygments_lexer": "ipython3",
   "version": "3.8.0"
  }
 },
 "nbformat": 4,
 "nbformat_minor": 4
}
